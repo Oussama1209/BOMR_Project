{
 "cells": [
  {
   "cell_type": "code",
   "execution_count": 7,
   "metadata": {},
   "outputs": [],
   "source": [
    "#import\n",
    "from timeit import default_timer as timer\n",
    "from tdmclient import ClientAsync, aw\n",
    "import time\n",
    "import cv2 as cv\n",
    "\n",
    "from Codes.utils.data import *\n",
    "from Codes.utils.communication import *\n",
    "from Codes.kalman_filter import *\n",
    "from Codes.motion_control import *\n",
    "from Codes.obstacle_avoidance import *"
   ]
  },
  {
   "cell_type": "code",
   "execution_count": 8,
   "metadata": {},
   "outputs": [
    {
     "ename": "TypeError",
     "evalue": "Map.__init__() missing 1 required positional argument: 'obstacles'",
     "output_type": "error",
     "traceback": [
      "\u001b[1;31m---------------------------------------------------------------------------\u001b[0m",
      "\u001b[1;31mTypeError\u001b[0m                                 Traceback (most recent call last)",
      "\u001b[1;32mc:\\Users\\laeti\\Documents\\EPFL\\Master\\Cours MA1\\Mobile robotics\\Projet\\BOMR_Project\\main2.ipynb Cell 2\u001b[0m line \u001b[0;36m6\n\u001b[0;32m      <a href='vscode-notebook-cell:/c%3A/Users/laeti/Documents/EPFL/Master/Cours%20MA1/Mobile%20robotics/Projet/BOMR_Project/main2.ipynb#W1sZmlsZQ%3D%3D?line=0'>1</a>\u001b[0m \u001b[39m##init\u001b[39;00m\n\u001b[0;32m      <a href='vscode-notebook-cell:/c%3A/Users/laeti/Documents/EPFL/Master/Cours%20MA1/Mobile%20robotics/Projet/BOMR_Project/main2.ipynb#W1sZmlsZQ%3D%3D?line=1'>2</a>\u001b[0m \n\u001b[0;32m      <a href='vscode-notebook-cell:/c%3A/Users/laeti/Documents/EPFL/Master/Cours%20MA1/Mobile%20robotics/Projet/BOMR_Project/main2.ipynb#W1sZmlsZQ%3D%3D?line=2'>3</a>\u001b[0m \u001b[39m# Vision initialisation\u001b[39;00m\n\u001b[0;32m      <a href='vscode-notebook-cell:/c%3A/Users/laeti/Documents/EPFL/Master/Cours%20MA1/Mobile%20robotics/Projet/BOMR_Project/main2.ipynb#W1sZmlsZQ%3D%3D?line=4'>5</a>\u001b[0m obstacles \u001b[39m=\u001b[39m Obstacle(\u001b[39m.\u001b[39m\u001b[39m.\u001b[39m\u001b[39m.\u001b[39m)\n\u001b[1;32m----> <a href='vscode-notebook-cell:/c%3A/Users/laeti/Documents/EPFL/Master/Cours%20MA1/Mobile%20robotics/Projet/BOMR_Project/main2.ipynb#W1sZmlsZQ%3D%3D?line=5'>6</a>\u001b[0m \u001b[39mmap\u001b[39m \u001b[39m=\u001b[39m Map(\u001b[39m.\u001b[39;49m\u001b[39m.\u001b[39;49m\u001b[39m.\u001b[39;49m)\n\u001b[0;32m      <a href='vscode-notebook-cell:/c%3A/Users/laeti/Documents/EPFL/Master/Cours%20MA1/Mobile%20robotics/Projet/BOMR_Project/main2.ipynb#W1sZmlsZQ%3D%3D?line=6'>7</a>\u001b[0m Robot \u001b[39m=\u001b[39m Robot(\u001b[39m.\u001b[39m\u001b[39m.\u001b[39m\u001b[39m.\u001b[39m)\n\u001b[0;32m      <a href='vscode-notebook-cell:/c%3A/Users/laeti/Documents/EPFL/Master/Cours%20MA1/Mobile%20robotics/Projet/BOMR_Project/main2.ipynb#W1sZmlsZQ%3D%3D?line=7'>8</a>\u001b[0m env \u001b[39m=\u001b[39m Environment(\u001b[39m.\u001b[39m\u001b[39m.\u001b[39m\u001b[39m.\u001b[39m)\n",
      "\u001b[1;31mTypeError\u001b[0m: Map.__init__() missing 1 required positional argument: 'obstacles'"
     ]
    }
   ],
   "source": [
    "##init\n",
    "\n",
    "# Vision initialisation\n",
    "\n",
    "obstacles = Obstacle(...)\n",
    "map = Map(...)\n",
    "Robot = Robot(...)\n",
    "env = Environment(...)\n",
    "\n",
    "# Thymio initialisation\n",
    "\n",
    "thymio = Thymio()\n",
    "initial_position = cam \n",
    "kalman = Kalman(initial_position)"
   ]
  },
  {
   "cell_type": "code",
   "execution_count": null,
   "metadata": {},
   "outputs": [],
   "source": [
    "##main\n",
    "\n",
    "print(\"\\nStart Main\")\n",
    "\n",
    "distance = 0\n",
    "point_to_go = [0, 0]\n",
    "prev_point_to_go = [0,0]\n",
    "actual_point = 0\n",
    "\n",
    "start_time = None\n",
    "timer = 0.1\n",
    "\n",
    "\n",
    "goal_reached = False\n",
    "\n",
    "while not goal_reached:\n",
    "\n",
    "    \n",
    "\n",
    "\n",
    "\n",
    "    ######################################## VISION ################################\n",
    "    \n",
    "\n",
    "\n",
    "\n",
    "    ######################################## Global Navigation ################################    \n",
    "\n",
    "    #Compute where to go\n",
    "\n",
    "\n",
    "\n",
    "\n",
    "\n",
    "    ######################################## Local Navigation/Motion ################################\n",
    "    \n",
    "    distance_tot = Point.dist(prev_point_to_go, point_to_go)\n",
    "\n",
    "    #need to define distance and distance_total\n",
    "    Kp = controller(distance, distance_tot, slowing_distance = 100)\n",
    "\n",
    "\n",
    "    motor_L,motor_R= compute_velocity(thymio.position, point_to_go, Kp, thymio.theta, goal_reached)\n",
    "\n",
    "    # Compute and set motors speed\n",
    "    obstacle_detected, motor_L_obstacle, motor_R_obstacle = obstacle_avoidance(thymio.sensors[:4])\n",
    "    if obstacle_detected : \n",
    "        motor_L+=motor_L_obstacle\n",
    "        motor_R+=motor_R_obstacle\n",
    "\n",
    "    thymio.set_variable(Motors(motor_L,motor_R))\n",
    "\n",
    "\n",
    "########################################STOP############################################\n",
    "    key = cv.waitKey(1)\n",
    "    if key == 27: \n",
    "        break  # Press esc to quit\n"
   ]
  },
  {
   "cell_type": "markdown",
   "metadata": {},
   "source": [
    "## STOP"
   ]
  },
  {
   "cell_type": "code",
   "execution_count": 2,
   "metadata": {},
   "outputs": [
    {
     "ename": "NameError",
     "evalue": "name 'thymio' is not defined",
     "output_type": "error",
     "traceback": [
      "\u001b[1;31m---------------------------------------------------------------------------\u001b[0m",
      "\u001b[1;31mNameError\u001b[0m                                 Traceback (most recent call last)",
      "\u001b[1;32mc:\\Users\\laeti\\Documents\\EPFL\\Master\\Cours MA1\\Mobile robotics\\Projet\\BOMR_Project\\main2.ipynb Cell 5\u001b[0m line \u001b[0;36m2\n\u001b[0;32m      <a href='vscode-notebook-cell:/c%3A/Users/laeti/Documents/EPFL/Master/Cours%20MA1/Mobile%20robotics/Projet/BOMR_Project/main2.ipynb#W3sZmlsZQ%3D%3D?line=0'>1</a>\u001b[0m \u001b[39m#stop the robot\u001b[39;00m\n\u001b[1;32m----> <a href='vscode-notebook-cell:/c%3A/Users/laeti/Documents/EPFL/Master/Cours%20MA1/Mobile%20robotics/Projet/BOMR_Project/main2.ipynb#W3sZmlsZQ%3D%3D?line=1'>2</a>\u001b[0m thymio\u001b[39m.\u001b[39mstop()\n\u001b[0;32m      <a href='vscode-notebook-cell:/c%3A/Users/laeti/Documents/EPFL/Master/Cours%20MA1/Mobile%20robotics/Projet/BOMR_Project/main2.ipynb#W3sZmlsZQ%3D%3D?line=2'>3</a>\u001b[0m \u001b[39m#close all windows\u001b[39;00m\n\u001b[0;32m      <a href='vscode-notebook-cell:/c%3A/Users/laeti/Documents/EPFL/Master/Cours%20MA1/Mobile%20robotics/Projet/BOMR_Project/main2.ipynb#W3sZmlsZQ%3D%3D?line=3'>4</a>\u001b[0m cv\u001b[39m.\u001b[39mdestroyAllWindows()\n",
      "\u001b[1;31mNameError\u001b[0m: name 'thymio' is not defined"
     ]
    }
   ],
   "source": [
    "#stop the robot\n",
    "thymio.stop()\n",
    "#close all windows\n",
    "cv.destroyAllWindows()"
   ]
  }
 ],
 "metadata": {
  "kernelspec": {
   "display_name": "Python 3",
   "language": "python",
   "name": "python3"
  },
  "language_info": {
   "codemirror_mode": {
    "name": "ipython",
    "version": 3
   },
   "file_extension": ".py",
   "mimetype": "text/x-python",
   "name": "python",
   "nbconvert_exporter": "python",
   "pygments_lexer": "ipython3",
   "version": "3.11.5"
  }
 },
 "nbformat": 4,
 "nbformat_minor": 2
}
