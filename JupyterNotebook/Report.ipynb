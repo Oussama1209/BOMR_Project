{
 "cells": [
  {
   "cell_type": "markdown",
   "metadata": {},
   "source": [
    "# MICRO-452 Basics of mobile robotics\n",
    "\n",
    "## Project Report\n",
    "\n",
    "Team  #############:\n",
    "Wilhelm Laetitia,\n",
    "Beuret Sylvain,\n",
    "Labbe Victor,\n",
    "############ Oussama"
   ]
  },
  {
   "cell_type": "markdown",
   "metadata": {},
   "source": [
    "### Table of Contents\n",
    "\n",
    "* [Introduction](#introduction)\n",
    "* [Computer vision](#computervision)\n",
    "    * [Set up](#setup)\n",
    "    * [Libraries](#libraries)\n",
    "    * [Colour detection and colour space](#colourdetection)\n",
    "    * [Map, Thymio, and obstacles detection](#detection)\n",
    "    * [Visibility graph](#visgraph)\n",
    "    * [Results](#results)\n",
    "  \n",
    "* [Path planning](#pathplanning)\n",
    "    * [STEP 1](#step1)\n",
    "  \n",
    "* [Filtering](#filtering)\n",
    "    * [General, filtering](#genfiltering)\n",
    "    * [Mathematical model](#mathmodel)\n",
    "    * [Filter blabla](#filterblabla)\n",
    "    * [Conclusion on filtering](#filterconcl)\n",
    "    \n",
    "* [Navigation](#navigation)\n",
    "    * [Global navigation](#globalnavigation)\n",
    "    * [Local navigation](#localnavigation)\n",
    "    \n",
    "* [Conclusion](#conclusion)"
   ]
  },
  {
   "cell_type": "markdown",
   "metadata": {},
   "source": [
    "### Introduction <a class=\"anchor\" id=\"introduction\"></a>\n",
    "\n",
    "\n",
    "This project is made in the frame of the EPFL course: Basics of Mobile Robotics (BoMR). The goal is to program a robot, the Thymio, to go from a specific point to another while avoiding the obstacles and surviving some kidnapping sessions. In order to achieve this, we used computer vision, filtering, global navigation and local navigation.\n",
    "\n",
    "As you can see, we are on a car racing circuit, where our beloved thymio is racing against the clock.\n",
    "\n",
    "Our program uses an overhead camera to detect the obstacles, the track, the thymio and the finishing line. The global navigation part, anaibles to do path planning to reach the line (goal). Finally we have a Kalman filter, using the robot's poistion from the camera and odometry, allowing the thymio to know and correct its position in real time, even with a hidden camera."
   ]
  },
  {
   "cell_type": "markdown",
   "metadata": {},
   "source": [
    "AJOUTER GRAPH EXPLICATIF"
   ]
  },
  {
   "cell_type": "markdown",
   "metadata": {},
   "source": [
    "AJOUTER NOTRE VIDEO\n",
    "\n",
    "from IPython.display import Video\n",
    "\n",
    "video_path = 'chemin/vers/votre/video.mp4'\n",
    "video = Video(video_path)\n",
    "\n",
    "#affiche la vidéo\n",
    "video"
   ]
  },
  {
   "cell_type": "markdown",
   "metadata": {},
   "source": [
    "EXPLAIN HOW TO USE THE MAIN"
   ]
  },
  {
   "cell_type": "markdown",
   "metadata": {},
   "source": [
    "When the video is on, different options can be displayed, by pressing the following keys: \n",
    "* c : Shows contours of map, targets, obstacles, thymio.\n",
    "* p: Shows polygon approximations of the contours of the map and the obstacle. Shows centroid of targets. Shows the smallest circle and rectangle which include the thymio.\n",
    "* m: Shows the dilated map and the dilated obstacles.\n",
    "* v: Shows the visibility graph.\n",
    "* k: Shows the current Kalman pose estimation.\n",
    "* o: Shows the optimal path found.\n",
    "* esp: Quits the program."
   ]
  },
  {
   "cell_type": "markdown",
   "metadata": {},
   "source": [
    "\n",
    "## Computer vision<a class=\"anchor\" id=\"computervision\"></a>\n",
    "\n",
    "\n",
    "### Set-up <a class=\"anchor\" id=\"setup\"></a>\n",
    "\n",
    "The road is in white and the rest is in black. We have in addition some black and white obstacles.\n",
    "\n",
    "\n",
    "INSERER IMAGE\n",
    "\n",
    "\n",
    "### Libraries<a class=\"anchor\" id=\"libraries\"></a>\n",
    "\n",
    "Using Numpy, OpenCv and Shapely libraries, we get a livestream from the webcam and we use the 20th frame of the video to detect most of the things that we need to plan the shortest path for the robot."
   ]
  },
  {
   "cell_type": "code",
   "execution_count": 9,
   "metadata": {},
   "outputs": [],
   "source": [
    "from math import pi\n",
    "import numpy as np \n",
    "import cv2 as cv\n",
    "import matplotlib.pyplot as plt\n",
    "from shapely.geometry import MultiPolygon, Polygon \n",
    "from shapely.geometry import LineString, Point"
   ]
  },
  {
   "cell_type": "markdown",
   "metadata": {},
   "source": [
    "### Colour detection and colour space<a class=\"anchor\" id=\"colourdetection\"></a>\n",
    "\n",
    "\n",
    "BLA BLA"
   ]
  },
  {
   "cell_type": "markdown",
   "metadata": {},
   "source": [
    "INSERER CODE get-frame"
   ]
  },
  {
   "cell_type": "markdown",
   "metadata": {},
   "source": [
    "### Map, Thymio and obstacles detection<a class=\"anchor\" id=\"detection\"></a>\n",
    "\n",
    "BLABLABLA\n"
   ]
  },
  {
   "cell_type": "markdown",
   "metadata": {},
   "source": [
    "#### Map detection<a class=\"anchor\" id=\"mapdetection\"></a>\n",
    "BLABLABLA"
   ]
  },
  {
   "cell_type": "markdown",
   "metadata": {},
   "source": [
    "INSERER CODE"
   ]
  },
  {
   "cell_type": "markdown",
   "metadata": {},
   "source": [
    "#### Thymio detection<a class=\"anchor\" id=\"thymiodetection\"></a>\n",
    "\n",
    "BLABLA"
   ]
  },
  {
   "cell_type": "code",
   "execution_count": 11,
   "metadata": {},
   "outputs": [
    {
     "name": "stdout",
     "output_type": "stream",
     "text": [
      "INSERER CODE\n"
     ]
    }
   ],
   "source": [
    "print(\"INSERER CODE\")"
   ]
  },
  {
   "cell_type": "markdown",
   "metadata": {},
   "source": [
    "#### Targets detection <a class=\"anchor\" id=\"targetdetection\"></a>\n",
    "BLABLA"
   ]
  },
  {
   "cell_type": "code",
   "execution_count": 12,
   "metadata": {},
   "outputs": [
    {
     "name": "stdout",
     "output_type": "stream",
     "text": [
      "insérer code\n"
     ]
    }
   ],
   "source": [
    "print(\"insérer code\")"
   ]
  },
  {
   "cell_type": "markdown",
   "metadata": {},
   "source": [
    "#### Obstacles detection <a class=\"anchor\" id=\"obstaclesdetection\"></a>\n",
    "BLABLA"
   ]
  },
  {
   "cell_type": "code",
   "execution_count": 14,
   "metadata": {},
   "outputs": [
    {
     "name": "stdout",
     "output_type": "stream",
     "text": [
      "insérer code\n"
     ]
    }
   ],
   "source": [
    "print(\"insérer code\")"
   ]
  },
  {
   "cell_type": "code",
   "execution_count": null,
   "metadata": {},
   "outputs": [],
   "source": [
    "### Visibility graph <a class=\"anchor\" id=\"visgraph\"></a>\n"
   ]
  },
  {
   "cell_type": "code",
   "execution_count": 15,
   "metadata": {},
   "outputs": [
    {
     "name": "stdout",
     "output_type": "stream",
     "text": [
      "inserer code\n"
     ]
    }
   ],
   "source": [
    "print(\"inserer code\")"
   ]
  },
  {
   "cell_type": "markdown",
   "metadata": {},
   "source": [
    "### Results <a class=\"anchor\" id=\"results\"></a>\n",
    "\n",
    "blabla"
   ]
  },
  {
   "cell_type": "code",
   "execution_count": 16,
   "metadata": {},
   "outputs": [
    {
     "name": "stdout",
     "output_type": "stream",
     "text": [
      "inserer code\n"
     ]
    }
   ],
   "source": [
    "print(\"inserer code\")"
   ]
  },
  {
   "cell_type": "markdown",
   "metadata": {},
   "source": [
    "## Path planning<a class=\"anchor\" id=\"pathplanning\"></a>\n",
    "\n",
    "The goal of the path planning is to find the fastest, so the shortest, path for Thymio to reach the final line. It takes as input the visibility graph of the map, and returns the optimal path, which is a list of coordinates for Santo to follow. \n",
    "\n",
    "CONTINUER A EXPLIQUER"
   ]
  },
  {
   "cell_type": "markdown",
   "metadata": {},
   "source": [
    "blablalbalblallabblabllbblabl"
   ]
  },
  {
   "cell_type": "markdown",
   "metadata": {},
   "source": [
    "# Filtering <a class=\"anchor\" id=\"filtering\"></a>\n",
    "### General Filtering <a class=\"anchor\" id=\"genfiltering\"></a>\n",
    "\n",
    "explain goal\n"
   ]
  },
  {
   "cell_type": "markdown",
   "metadata": {},
   "source": [
    "### Mathematical model <a class=\"anchor\" id=\"mathmodel\"></a>\n",
    "\n",
    "jfh"
   ]
  },
  {
   "cell_type": "code",
   "execution_count": 17,
   "metadata": {},
   "outputs": [
    {
     "name": "stdout",
     "output_type": "stream",
     "text": [
      "inserer code\n"
     ]
    }
   ],
   "source": [
    "print(\"inserer code\")"
   ]
  },
  {
   "cell_type": "markdown",
   "metadata": {},
   "source": [
    "### Conclusion on filtering <a class=\"anchor\" id=\"filterconcl\"></a>\n",
    "\n",
    "The extended Kalman filter satifies our needs for this project. It allows to merge the camera measure"
   ]
  },
  {
   "cell_type": "markdown",
   "metadata": {},
   "source": [
    "## Navigation <a class=\"anchor\" id=\"navigation\"></a>\n",
    "### Global navigation <a class=\"anchor\" id=\"globalnavigation\"></a>\n",
    "\n",
    "intrp\n",
    "\n",
    "### Functioning <a class=\"anchor\" id=\"functioning\">\n",
    "\n"
   ]
  },
  {
   "cell_type": "markdown",
   "metadata": {},
   "source": [
    "inserer les différents mouvements"
   ]
  },
  {
   "cell_type": "markdown",
   "metadata": {},
   "source": [
    "### Local navigation <a class=\"anchor\" id=\"localnavigation\">\n",
    "\n",
    "The local navigation is directly done on the Thymio and has priority over the other commands sent by the computer. It is used to avoid obstacles 3D on the Thymio's path via the potential field Navigation system.\n",
    "\n",
    "When the front proximity sensors detect an obstacle, the speeds of the wheels will enable to avoid it, until they don't detect it anymore.\n",
    "\n",
    "After that, the Thymio will continue to follow the path, that will be newly computed."
   ]
  },
  {
   "cell_type": "code",
   "execution_count": 18,
   "metadata": {},
   "outputs": [
    {
     "name": "stdout",
     "output_type": "stream",
     "text": [
      "inserer code\n"
     ]
    }
   ],
   "source": [
    "print(\"inserer code\")"
   ]
  },
  {
   "cell_type": "markdown",
   "metadata": {},
   "source": [
    "## Conclusion <a class=\"anchor\" id=\"conclusion\">\n",
    "\n",
    "To conclude, "
   ]
  },
  {
   "cell_type": "markdown",
   "metadata": {},
   "source": [
    "### Sources :\n",
    "\n",
    "\n",
    "[1] MICRO-452 \"Basics of mobile robotics\" course of EPFL from Professor Francesco Mondada"
   ]
  }
 ],
 "metadata": {
  "kernelspec": {
   "display_name": "Python 3",
   "language": "python",
   "name": "python3"
  },
  "language_info": {
   "codemirror_mode": {
    "name": "ipython",
    "version": 3
   },
   "file_extension": ".py",
   "mimetype": "text/x-python",
   "name": "python",
   "nbconvert_exporter": "python",
   "pygments_lexer": "ipython3",
   "version": "3.11.5"
  }
 },
 "nbformat": 4,
 "nbformat_minor": 2
}
